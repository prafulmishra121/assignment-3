{
 "cells": [
  {
   "cell_type": "code",
   "execution_count": null,
   "id": "99efaa29",
   "metadata": {},
   "outputs": [],
   "source": [
    "Write a Python function that accepts a string and calculate the number of upper case letters and lower case letters.\n",
    "\n",
    "\n",
    "\n",
    "﻿Sample String : 'The quick Brow Fox'\n",
    "\n",
    "Expected Output :\n",
    "\n",
    "No. of Upper case characters : 3\n",
    "\n",
    "No. of Lower case Characters : 12"
   ]
  },
  {
   "cell_type": "code",
   "execution_count": 33,
   "id": "8df815d2",
   "metadata": {},
   "outputs": [
    {
     "name": "stdout",
     "output_type": "stream",
     "text": [
      "no. of upper case characters: 3\n",
      "no of lower case characters: 12\n"
     ]
    }
   ],
   "source": [
    "def calculate(letters):\n",
    "    count1=0\n",
    "    count2=0\n",
    "    for char in letters:\n",
    "        if char.isupper():\n",
    "            count1 += 1\n",
    "        elif char.islower():\n",
    "            count2 += 1\n",
    "    print(\"no. of upper case characters:\",count1)\n",
    "    print(\"no of lower case characters:\",count2)\n",
    "l =\"The quick Brow Fox\"\n",
    "calculate(l)"
   ]
  },
  {
   "cell_type": "code",
   "execution_count": null,
   "id": "0526ae5d",
   "metadata": {},
   "outputs": [],
   "source": []
  }
 ],
 "metadata": {
  "kernelspec": {
   "display_name": "Python 3 (ipykernel)",
   "language": "python",
   "name": "python3"
  },
  "language_info": {
   "codemirror_mode": {
    "name": "ipython",
    "version": 3
   },
   "file_extension": ".py",
   "mimetype": "text/x-python",
   "name": "python",
   "nbconvert_exporter": "python",
   "pygments_lexer": "ipython3",
   "version": "3.10.2"
  }
 },
 "nbformat": 4,
 "nbformat_minor": 5
}
